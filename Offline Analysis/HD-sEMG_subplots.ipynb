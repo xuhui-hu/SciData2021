{
 "cells": [
  {
   "cell_type": "code",
   "execution_count": null,
   "metadata": {},
   "outputs": [],
   "source": [
    "import matplotlib.pyplot as plt\n",
    "import scipy.io as sio\n",
    "\n",
    "file = f'./G06.mat'\n",
    "data = sio.loadmat(file)\n",
    "data = data['Data'][:, 0:65]\n",
    "\n",
    "# Create a figure with 65 subplots\n",
    "fig, axs = plt.subplots(nrows=5, ncols=13)\n",
    "\n",
    "for i in range(5):\n",
    "    for j in range(13):\n",
    "        axs[i][j].plot(data[:, 13 * i + j])\n",
    "# Display the plot\n",
    "plt.show()\n"
   ]
  }
 ],
 "metadata": {
  "language_info": {
   "name": "python"
  },
  "orig_nbformat": 4
 },
 "nbformat": 4,
 "nbformat_minor": 2
}

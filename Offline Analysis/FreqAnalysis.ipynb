{
 "cells": [
  {
   "cell_type": "code",
   "execution_count": null,
   "metadata": {},
   "outputs": [],
   "source": [
    "import Ipynb_importer\n",
    "import OfflineAnalysis\n",
    "import numpy as np\n",
    "from scipy.fft import fft\n",
    "import matplotlib.pyplot as plt\n",
    "import scipy.io as sio\n",
    "from scipy import signal\n",
    "\n",
    "ch = 1  # The channel number you want to check\n",
    "fs = 2048 # sampling frequency\n",
    "\n",
    "\n",
    "file = f'./G06.mat'  # fill in the data address\n",
    "data = sio.loadmat(file)\n",
    "data = data['Data'][:, 0:65]  # select the HD-sEMG data\n",
    "d_raw = data[:, ch]\n",
    "\n",
    "# calculating the frequency spectrum\n",
    "fft_signal = fft(d_raw)\n",
    "freqs = np.linspace(0, fs, len(d_raw))\n",
    "mags = np.abs(fft_signal)\n",
    "\n",
    "plt.figure()\n",
    "# drawing the frequency spectrum before the filtering\n",
    "plt.plot(freqs[:len(d_raw)//2], mags[:len(d_raw)//2])\n",
    "plt.xlabel('Frequency (Hz)')\n",
    "plt.ylabel('Magnitude')\n",
    "# plt.show()\n",
    "\n",
    "data_clean = outlierDector(data, 1, 1, 2048, interval=180, plot=False, channel_num=65)\n",
    "d_cle = data_clean[:, ch]\n",
    "\n",
    "# calculating the frequency spectrum\n",
    "fft_signal = fft(d_cle)\n",
    "freqs = np.linspace(0, fs, len(d_cle))\n",
    "mags = np.abs(fft_signal)\n",
    "\n",
    "# drawing the frequency spectrum after the filtering\n",
    "plt.plot(freqs[:len(d_cle)//2], mags[:len(d_cle)//2])\n",
    "plt.xlabel('Frequency (Hz)')\n",
    "plt.ylabel('Magnitude')\n",
    "plt.show()\n",
    "\n",
    "plt.figure()\n",
    "plt.plot(d_raw)\n",
    "plt.plot(d_cle)\n",
    "plt.show()"
   ]
  }
 ],
 "metadata": {
  "language_info": {
   "name": "python"
  },
  "orig_nbformat": 4
 },
 "nbformat": 4,
 "nbformat_minor": 2
}

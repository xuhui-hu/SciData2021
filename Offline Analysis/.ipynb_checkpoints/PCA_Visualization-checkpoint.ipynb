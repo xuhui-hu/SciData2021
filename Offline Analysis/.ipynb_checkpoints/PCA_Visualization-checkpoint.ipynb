{
 "cells": [
  {
   "cell_type": "markdown",
   "metadata": {},
   "source": [
    "### PCA Visualization"
   ]
  },
  {
   "cell_type": "code",
   "execution_count": null,
   "metadata": {},
   "outputs": [],
   "source": [
    "import os\n",
    "import numpy as np\n",
    "import matplotlib.pyplot as plt\n",
    "from mpl_toolkits.mplot3d import Axes3D\n",
    "import scipy.io as sio\n",
    "\n",
    "from sklearn import decomposition\n",
    "import Ipynb_importer\n",
    "import OfflineAnalysis\n",
    "\n",
    "'''achieving the data index of the static gestures(the middle three seconds)'''\n",
    "def staticIndex(intervals = 3, fd = 50):\n",
    "    trials = 18\n",
    "    gestures = 12\n",
    "    lengthPerTrial = 10 * fd\n",
    "    static_idx = np.zeros((gestures * trials * intervals * fd,),dtype=int)\n",
    "    for i in range(gestures):\n",
    "        for j in range(trials):\n",
    "            stat_idx_start = i * (intervals * fd * trials) + j * intervals * fd\n",
    "            stat_idx_stop = i * (intervals * fd * trials) + (j + 1) * intervals * fd\n",
    "            \n",
    "            x_stat_idx_start = (lengthPerTrial*trials*i) + (lengthPerTrial*j) + (lengthPerTrial - intervals * fd) / 2\n",
    "            x_stat_idx_stop = (lengthPerTrial*trials*i) + (lengthPerTrial*j) + (lengthPerTrial + intervals * fd) / 2\n",
    "            \n",
    "            static_idx[stat_idx_start : stat_idx_stop] = np.arange(x_stat_idx_start, x_stat_idx_stop, dtype=int)\n",
    "    return static_idx\n",
    "\n",
    "'''\n",
    "Select the specific gestures\n",
    "label: input a list with the number index of gestures. e.g. [0,1,2] equals to [G01,G02,G03]\n",
    "'''\n",
    "def chooseX(label): \n",
    "    labelSet = ('rest','index','middle','ring','little',\n",
    "                'index+middle','middle+ring','ring+little',\n",
    "                'index+middle+ring','middle+ring+little',\n",
    "                'fingers flex','fingers abduction','fingers adduction')\n",
    "    labelSet = list(enumerate(labelSet))\n",
    "    output = []\n",
    "    for i in label :\n",
    "        output.append(labelSet[i])\n",
    "    return output\n",
    "\n",
    "'''Project the 3d vector x into a plane with n as the normal vector'''\n",
    "def project_onto_plane(x, n):  # x= (n_samples,n_features=3)\n",
    "    d = np.dot(x, n.reshape((-1,1))) / np.linalg.norm(n)\n",
    "    p = d * ( n / np.linalg.norm(n))\n",
    "    return x - p"
   ]
  },
  {
   "cell_type": "markdown",
   "metadata": {},
   "source": [
    "#### Saving the preprocessed HD-sEMG and MYO data as a .mat file"
   ]
  },
  {
   "cell_type": "code",
   "execution_count": null,
   "metadata": {},
   "outputs": [],
   "source": [
    "s = 1\n",
    "fd = 50\n",
    "new_mainDir = \"../\"\n",
    "newDir = os.path.join(new_mainDir, \"S\" + str(s).zfill(2))\n",
    "\n",
    "# Loading the preprocessed data at first\n",
    "print(\"Loading HDEMG\")\n",
    "x, y = OfflineAnalysis.readfiles(s, fd=fd, source='hdEMG')\n",
    "sio.savemat(os.path.join(newDir, 'hdEMG.mat'), {'x': x,'y': y})  # Saving .mat File of HD-sEMG\n",
    "\n",
    "print(\"Loading MYO\")\n",
    "x, y = OfflineAnalysis.readfiles(s, fd=fd, source='myo')\n",
    "sio.savemat(os.path.join(newDir, 'myo.mat'), {'x': x,'y': y})  # Saving .mat File of MYO"
   ]
  },
  {
   "cell_type": "markdown",
   "metadata": {},
   "source": [
    "#### Loading the data of static gestures"
   ]
  },
  {
   "cell_type": "code",
   "execution_count": null,
   "metadata": {},
   "outputs": [],
   "source": [
    "s = 1\n",
    "fd = 50\n",
    "new_mainDir = \"../\"\n",
    "newDir = os.path.join(new_mainDir, \"S\" + str(s).zfill(2))\n",
    "\n",
    "rawdata = sio.loadmat(os.path.join(newDir, 'hdEMG.mat'))\n",
    "\n",
    "static_idx = staticIndex(intervals = 3, fd = fd)\n",
    "\n",
    "x_static = rawdata['x'][static_idx, :]\n",
    "y_static = rawdata['y'].reshape((-1,))\n",
    "y_static = y_static[static_idx]"
   ]
  },
  {
   "cell_type": "markdown",
   "metadata": {},
   "source": [
    "Note: The PCA analysis has randomized effect, so the figure is not exact with that in the paper\n",
    "#### 1. 3d PCA visualization of 12 gestures"
   ]
  },
  {
   "cell_type": "code",
   "execution_count": null,
   "metadata": {},
   "outputs": [],
   "source": [
    "selectedLabels = chooseX(range(1,13))  # 5,6,[1,2,4,8,9,12]\n",
    "x = np.zeros((len(selectedLabels) * 18 * 3 * 50, 65))\n",
    "y = np.zeros((len(selectedLabels) * 18 * 3 * 50, ))\n",
    "for i, label in enumerate(selectedLabels):\n",
    "    setStart = 18 * 3 * 50 * i\n",
    "    setStop = 18 * 3 * 50 * (i+1)\n",
    "    x[setStart:setStop, :] = x_static[y_static == label[0], :]\n",
    "    y[setStart:setStop] = y_static[y_static == label[0]]\n",
    "\n",
    "pca = decomposition.PCA(n_components=3, svd_solver='randomized', whiten=True)\n",
    "X_pca = pca.fit_transform(x_static)\n",
    "Y_pca = y_static\n",
    "\n",
    "%matplotlib\n",
    "fig = plt.figure(1, figsize=(4, 3))\n",
    "plt.clf()\n",
    "ax = Axes3D(fig, rect=[0, 0, .95, 1], elev=48, azim=134)\n",
    "plt.cla()\n",
    "i = 0\n",
    "for label, name in selectedLabels:\n",
    "    if label < 5:\n",
    "        sc = ax.scatter(X_pca[Y_pca == label, 0], \n",
    "                        X_pca[Y_pca == label, 1], \n",
    "                        X_pca[Y_pca == label, 2], \n",
    "                        c=Y_pca[Y_pca == label], cmap = \"rainbow\", \n",
    "                        norm = plt.Normalize(vmin=0, vmax=14),\n",
    "                        label=name)  # nipy_spectral\n",
    "    else:\n",
    "         sc = ax.scatter(X_pca[Y_pca == label, 0], \n",
    "                         X_pca[Y_pca == label, 1], \n",
    "                         X_pca[Y_pca == label, 2], \n",
    "                         c=Y_pca[Y_pca == label], cmap = \"rainbow\", \n",
    "                         norm = plt.Normalize(vmin=0, vmax=14),\n",
    "                         label=name,alpha=0.2)  # nipy_spectral       \n",
    "plt.legend()\n",
    "plt.show()"
   ]
  },
  {
   "cell_type": "markdown",
   "metadata": {},
   "source": [
    "#### 2. 2d PCA visualization of single movement of 4 fingers."
   ]
  },
  {
   "cell_type": "code",
   "execution_count": null,
   "metadata": {},
   "outputs": [],
   "source": [
    "'''2d PCA'''\n",
    "%matplotlib\n",
    "elev= 36\n",
    "azim=-8\n",
    "c = project_onto_plane(X_pca, np.array([np.cos(elev * np.pi / 180), np.sin(azim * np.pi / 180), np.sin(elev * np.pi / 180)]))\n",
    "x = decomposition.PCA(n_components=2, svd_solver='randomized', whiten=True).fit_transform(c)\n",
    "plt.figure(2)\n",
    "selectedLabels = chooseX(range(1,5))  # 5,6,[1,2,4,8,9,12]\n",
    "for label, name in selectedLabels:\n",
    "    sc = plt.scatter(x[Y_pca == label, 0], \n",
    "                   x[Y_pca == label, 1], \n",
    "                   c=Y_pca[Y_pca == label], cmap = \"nipy_spectral\", \n",
    "                   norm = plt.Normalize(vmin=0, vmax=5),\n",
    "                   label=name)  # nipy_spectral\n",
    "plt.legend()\n",
    "plt.show()"
   ]
  },
  {
   "cell_type": "markdown",
   "metadata": {},
   "source": [
    "#### 3. 2d PCA visualization of index, middle, index+middle"
   ]
  },
  {
   "cell_type": "code",
   "execution_count": null,
   "metadata": {},
   "outputs": [],
   "source": [
    "selectedLabels = chooseX([1,2,5])\n",
    "x = np.zeros((len(selectedLabels) * 18 * 3 * 50, 65))\n",
    "y = np.zeros((len(selectedLabels) * 18 * 3 * 50, ))\n",
    "for i, label in enumerate(selectedLabels):\n",
    "    setStart = 18 * 3 * 50 * i\n",
    "    setStop = 18 * 3 * 50 * (i+1)\n",
    "    x[setStart:setStop, :] = x_static[y_static == label[0], :]\n",
    "    y[setStart:setStop] = y_static[y_static == label[0]]\n",
    "\n",
    "pca = decomposition.PCA(n_components=2, svd_solver='randomized', whiten=True)\n",
    "X_pca = pca.fit_transform(x)\n",
    "Y_pca = y\n",
    "\n",
    "%matplotlib\n",
    "\n",
    "plt.figure(2)\n",
    "i = 0\n",
    "for label, name in selectedLabels:\n",
    "    sc = plt.scatter(X_pca[Y_pca == label, 0], \n",
    "                   X_pca[Y_pca == label, 1], \n",
    "                   c=Y_pca[Y_pca == label], cmap = \"nipy_spectral\", \n",
    "                   norm = plt.Normalize(vmin=0, vmax=6),\n",
    "                   label=name)  # nipy_spectral\n",
    "plt.legend()\n",
    "plt.show()\n"
   ]
  },
  {
   "cell_type": "markdown",
   "metadata": {},
   "source": [
    "#### 4. 2d PCA visualization of index, ring, little and fingers abduction"
   ]
  },
  {
   "cell_type": "code",
   "execution_count": null,
   "metadata": {},
   "outputs": [],
   "source": [
    "selectedLabels = chooseX([1,3,4,11,12])\n",
    "x = np.zeros((len(selectedLabels) * 18 * 3 * 50, 65))\n",
    "y = np.zeros((len(selectedLabels) * 18 * 3 * 50, ))\n",
    "for i, label in enumerate(selectedLabels):\n",
    "    setStart = 18 * 3 * 50 * i\n",
    "    setStop = 18 * 3 * 50 * (i+1)\n",
    "    x[setStart:setStop, :] = x_static[y_static == label[0], :]\n",
    "    y[setStart:setStop] = y_static[y_static == label[0]]\n",
    "\n",
    "pca = decomposition.PCA(n_components=2, svd_solver='randomized', whiten=True)\n",
    "X_pca = pca.fit_transform(x)\n",
    "Y_pca = y\n",
    "\n",
    "%matplotlib\n",
    "\n",
    "plt.figure(2)\n",
    "i = 0\n",
    "for label, name in selectedLabels:\n",
    "    sc = plt.scatter(X_pca[Y_pca == label, 0], \n",
    "                   X_pca[Y_pca == label, 1], \n",
    "                   c=Y_pca[Y_pca == label], cmap = \"Set3\", \n",
    "                   norm = plt.Normalize(vmin=1, vmax=13),\n",
    "                   label=name)  # nipy_spectral\n",
    "plt.legend()\n",
    "plt.show()\n"
   ]
  },
  {
   "cell_type": "markdown",
   "metadata": {},
   "source": [
    "#### 5. 2d PCA visualization of middle, ring, little, middle+ring and middle+ring+little"
   ]
  },
  {
   "cell_type": "code",
   "execution_count": null,
   "metadata": {},
   "outputs": [],
   "source": [
    "selectedLabels = chooseX([2,3,4,6,9])\n",
    "x = np.zeros((len(selectedLabels) * 18 * 3 * 50, 65))\n",
    "y = np.zeros((len(selectedLabels) * 18 * 3 * 50, ))\n",
    "for i, label in enumerate(selectedLabels):\n",
    "    setStart = 18 * 3 * 50 * i\n",
    "    setStop = 18 * 3 * 50 * (i+1)\n",
    "    x[setStart:setStop, :] = x_static[y_static == label[0], :]\n",
    "    y[setStart:setStop] = y_static[y_static == label[0]]\n",
    "\n",
    "pca = decomposition.PCA(n_components=2, svd_solver='randomized', whiten=True)\n",
    "X_pca = pca.fit_transform(x)\n",
    "Y_pca = y\n",
    "\n",
    "%matplotlib\n",
    "\n",
    "plt.figure(2)\n",
    "i = 0\n",
    "for label, name in selectedLabels:\n",
    "    sc = plt.scatter(X_pca[Y_pca == label, 0], \n",
    "                   X_pca[Y_pca == label, 1], \n",
    "                   c=Y_pca[Y_pca == label], cmap = \"nipy_spectral\", \n",
    "                   norm = plt.Normalize(vmin=1, vmax=10),\n",
    "                   label=name)  # nipy_spectral\n",
    "plt.legend()\n",
    "plt.show()\n"
   ]
  },
  {
   "cell_type": "markdown",
   "metadata": {},
   "source": [
    "#### 6. 2d PCA visualization of index, ring, index+middle+ring and four fingers flexion."
   ]
  },
  {
   "cell_type": "code",
   "execution_count": null,
   "metadata": {},
   "outputs": [],
   "source": [
    "selectedLabels = chooseX([1,3,8,10])  # 5,6,[1,2,4,8,9,12]\n",
    "x = np.zeros((len(selectedLabels) * 18 * 3 * 50, 65))\n",
    "y = np.zeros((len(selectedLabels) * 18 * 3 * 50, ))\n",
    "for i, label in enumerate(selectedLabels):\n",
    "    setStart = 18 * 3 * 50 * i\n",
    "    setStop = 18 * 3 * 50 * (i+1)\n",
    "    x[setStart:setStop, :] = x_static[y_static == label[0], :]\n",
    "    y[setStart:setStop] = y_static[y_static == label[0]]\n",
    "\n",
    "pca = decomposition.PCA(n_components=2, svd_solver='randomized', whiten=True)\n",
    "X_pca = pca.fit_transform(x)\n",
    "Y_pca = y\n",
    "\n",
    "%matplotlib\n",
    "\n",
    "plt.figure(2)\n",
    "i = 0\n",
    "for label, name in selectedLabels:\n",
    "    sc = plt.scatter(X_pca[Y_pca == label, 0], \n",
    "                   X_pca[Y_pca == label, 1], \n",
    "                   c=Y_pca[Y_pca == label], cmap = \"nipy_spectral\", \n",
    "                   norm = plt.Normalize(vmin=0, vmax=11),\n",
    "                   label=name)  # nipy_spectral\n",
    "plt.legend()\n",
    "plt.show()\n"
   ]
  },
  {
   "cell_type": "markdown",
   "metadata": {
    "tags": []
   },
   "source": [
    "#### 7. 2d PCA visualization of ring, little, ring+little."
   ]
  },
  {
   "cell_type": "code",
   "execution_count": null,
   "metadata": {},
   "outputs": [],
   "source": [
    "selectedLabels = chooseX([3,4,7])  # 5,6,[1,2,4,8,9,12]\n",
    "x = np.zeros((len(selectedLabels) * 18 * 3 * 50, 65))\n",
    "y = np.zeros((len(selectedLabels) * 18 * 3 * 50, ))\n",
    "for i, label in enumerate(selectedLabels):\n",
    "    setStart = 18 * 3 * 50 * i\n",
    "    setStop = 18 * 3 * 50 * (i+1)\n",
    "    x[setStart:setStop, :] = x_static[y_static == label[0], :]\n",
    "    y[setStart:setStop] = y_static[y_static == label[0]]\n",
    "\n",
    "pca = decomposition.PCA(n_components=2, svd_solver='randomized', whiten=True)\n",
    "X_pca = pca.fit_transform(x)\n",
    "Y_pca = y\n",
    "\n",
    "%matplotlib\n",
    "\n",
    "plt.figure(2)\n",
    "i = 0\n",
    "for label, name in selectedLabels:\n",
    "    sc = plt.scatter(X_pca[Y_pca == label, 0], \n",
    "                   X_pca[Y_pca == label, 1], \n",
    "                   c=Y_pca[Y_pca == label], cmap = \"nipy_spectral\", \n",
    "                   norm = plt.Normalize(vmin=2, vmax=8),\n",
    "                   label=name)  # nipy_spectral\n",
    "plt.legend()\n",
    "plt.show()"
   ]
  }
 ],
 "metadata": {
  "kernelspec": {
   "display_name": "Python 3 (ipykernel)",
   "language": "python",
   "name": "python3"
  },
  "language_info": {
   "codemirror_mode": {
    "name": "ipython",
    "version": 3
   },
   "file_extension": ".py",
   "mimetype": "text/x-python",
   "name": "python",
   "nbconvert_exporter": "python",
   "pygments_lexer": "ipython3",
   "version": "3.7.3"
  }
 },
 "nbformat": 4,
 "nbformat_minor": 4
}

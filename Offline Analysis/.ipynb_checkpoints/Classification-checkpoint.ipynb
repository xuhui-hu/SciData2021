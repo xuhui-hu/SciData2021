{
 "cells": [
  {
   "cell_type": "markdown",
   "id": "992b955a-ef81-40dd-92e8-e2fee00560ec",
   "metadata": {},
   "source": [
    "Note: Running PCA_Visualization.ipynb first to generate hdEMG.mat and myo.mat at Cell2\n",
    "#### Step 1. Split the data into Training set and Test set."
   ]
  },
  {
   "cell_type": "code",
   "execution_count": 3,
   "id": "7afc9ac5-6b43-4073-bac2-79014efffa29",
   "metadata": {},
   "outputs": [],
   "source": [
    "import numpy as np\n",
    "import os\n",
    "import scipy.io as sio  # used for reading database\n",
    "\n",
    "import matplotlib.pyplot as plt\n",
    "from sklearn import decomposition, neighbors\n",
    "\n",
    "import Ipynb_importer\n",
    "import OfflineAnalysis\n",
    "\n",
    "new_mainDir = \"../\"\n",
    "s = 1\n",
    "newDir = os.path.join(new_mainDir, \"S\" + str(s).zfill(2))\n",
    "\n",
    "rawHDEMG = sio.loadmat(os.path.join(newDir, 'hdEMG.mat'))\n",
    "rawMYO = sio.loadmat(os.path.join(newDir, 'myo.mat'))\n",
    "\n",
    "hdEMG = rawHDEMG['x']\n",
    "myo = rawMYO['x']\n",
    "glove,_ = OfflineAnalysis.readfiles(s, fd=50,source='glove', ges_num=12)\n",
    "y = rawMYO[\"y\"].reshape(-1,)\n",
    "\n",
    "# Dataset Split\n",
    "data = np.hstack((hdEMG,myo,glove))\n",
    "X_train, X_test, y_train, y_test = OfflineAnalysis.dataset_split(data, y)\n"
   ]
  },
  {
   "cell_type": "markdown",
   "id": "6a2deced-b855-40a8-b108-aad57cce3335",
   "metadata": {},
   "source": [
    "#### Step 2. Draw the joint angle curve, one trial per gesture."
   ]
  },
  {
   "cell_type": "code",
   "execution_count": 5,
   "id": "0121044f-40cc-47b1-9f21-8d24872d942e",
   "metadata": {},
   "outputs": [
    {
     "name": "stdout",
     "output_type": "stream",
     "text": [
      "Using matplotlib backend: Qt5Agg\n"
     ]
    }
   ],
   "source": [
    "# Draw the glove curve\n",
    "jointIndexOfGestures = [0,3,7,11,\n",
    "                        0,3,7,\n",
    "                       0,3,0,14,14]\n",
    "\n",
    "perGes = 50 * 10 * 6  # 6 trials in Test Set\n",
    "gloveData = np.zeros((50 * 10 * 12,))\n",
    "\n",
    "x = X_test[:,65+8:] # 从测试集中拿出关节角数据进行绘制，每个手势只拿出测试集中的第一个trial\n",
    "\n",
    "for i,gesIdx in enumerate(jointIndexOfGestures):\n",
    "    start = i * 50 * 10\n",
    "    stop = (i+1) * 50 * 10\n",
    "    if i != 10:\n",
    "        data = x[i * perGes : i * perGes + 500, gesIdx]\n",
    "    else:\n",
    "        data = - x[i * perGes : i * perGes + 500, gesIdx]\n",
    "\n",
    "    gloveData[start:stop,] = (data - np.min(data)) / np.max(data - np.min(data))\n",
    "    \n",
    "%matplotlib\n",
    "plt.figure()\n",
    "plt.plot(gloveData)\n",
    "plt.show()  "
   ]
  },
  {
   "cell_type": "markdown",
   "id": "07b128a8-f7a2-4a3d-9893-b0d5386bee4b",
   "metadata": {},
   "source": [
    "#### Step 3. Train the KNN classifier and predict the test trials"
   ]
  },
  {
   "cell_type": "code",
   "execution_count": 11,
   "id": "74ef1959-c8a9-426c-90f0-679610c81e51",
   "metadata": {
    "tags": []
   },
   "outputs": [],
   "source": [
    "ges = [1,2,3,4,11,12]\n",
    "X_train_select = np.zeros((50 * 10 * len(ges) * 12, 88))\n",
    "y_train_select = np.zeros((50 * 10 * len(ges) * 12, ))\n",
    "X_test_select = np.zeros((50 * 10 * len(ges) * 6, 88))\n",
    "y_test_select = np.zeros((50 * 10 * len(ges) * 6, ))\n",
    "gloveData_select =  np.zeros((50 * 10 * len(ges), ))\n",
    "for num,i in enumerate(ges):\n",
    "    X_train_select[num * 500 * 12:(num+1) * 500 * 12,:]= X_train[np.where(y_train == i),:]\n",
    "    y_train_select[num * 500 * 12:(num+1) * 500 * 12,] = y_train[np.where(y_train == i),]\n",
    "    \n",
    "    X_test_select[num * 500 * 6:(num+1) * 500 * 6,:]= X_test[np.where(y_test == i),:]\n",
    "    y_test_select[num * 500 * 6:(num+1) * 500 * 6,] = y_test[np.where(y_test == i),]\n",
    "    \n",
    "    gloveData_select[num * 500:(num+1) * 500,] = gloveData[(i-1) * 500:(i) * 500,]\n",
    "\n",
    "n_neighbors = 15\n",
    "clf = neighbors.KNeighborsClassifier(n_neighbors)\n",
    "\n",
    "clf.fit(X_train_select[:,0:65],y_train_select)\n",
    "y_hat_hdEMG = clf.predict(X_test_select[:,0:65])\n",
    "\n",
    "clf.fit(X_train_select[:,65:65+8],y_train_select)\n",
    "y_hat_myo = clf.predict(X_test_select[:,65:65+8])\n",
    "\n",
    "\n",
    "perGes = 50 * 10 * 6 # 6 trials in Test Set\n",
    "hdEmgData = np.zeros((50 * 10 * len(ges),))\n",
    "myoData = np.zeros((50 * 10 * len(ges),))\n",
    "trueData =  np.zeros((50 * 10 * len(ges),))\n",
    "\n",
    "for i in range(len(ges)):\n",
    "    start = i * 50 * 10\n",
    "    stop = (i+1) * 50 * 10\n",
    "\n",
    "    hdEmgData[start:stop,] = y_hat_hdEMG[i * perGes : i * perGes + 500, ]\n",
    "    myoData[start:stop,] = y_hat_myo[i * perGes : i * perGes + 500, ]\n",
    "    trueData[start:stop,] = y_test_select[i * perGes : i * perGes + 500, ]"
   ]
  },
  {
   "cell_type": "markdown",
   "id": "fbb0dfed-1bc4-4d61-94a0-73a1f92bb37e",
   "metadata": {},
   "source": [
    "#### Step 4. PLot the online predicting curve"
   ]
  },
  {
   "cell_type": "code",
   "execution_count": 14,
   "id": "c15b9f3b-a385-4fc5-a1af-39823633cbb2",
   "metadata": {},
   "outputs": [
    {
     "name": "stdout",
     "output_type": "stream",
     "text": [
      "Using matplotlib backend: Qt5Agg\n"
     ]
    }
   ],
   "source": [
    "# 绘制单指预测方块\n",
    "import numpy as np\n",
    "import matplotlib.pyplot as plt\n",
    "import matplotlib.patches as mpathes\n",
    "%matplotlib\n",
    "fig,ax = plt.subplots()\n",
    "\n",
    "cmap = plt.cm.Set3\n",
    "norm = plt.Normalize(vmin=0, vmax=11)\n",
    "color = cmap(norm(range(12)))\n",
    "\n",
    "ax.plot(np.linspace(0,len(ges) * 10, 50 * 10 * len(ges), endpoint=False),gloveData_select,color = 'k')\n",
    "ax.plot(np.linspace(0,len(ges) * 10, 50 * 10 * len(ges), endpoint=False),gloveData_select - 1.5,color = 'k')\n",
    "ax.plot(np.linspace(0,len(ges) * 10, 50 * 10 * len(ges), endpoint=False),gloveData_select - 3,color = 'k')\n",
    "\n",
    "for i in range(trueData.shape[0]):\n",
    "    rect = mpathes.Rectangle(np.array([0.02 * i,0]),0.02,1,color=color[int(trueData[i])-1])\n",
    "    ax.add_patch(rect)\n",
    "    \n",
    "    rect = mpathes.Rectangle(np.array([0.02 * i,-1.5]),0.02,1,color=color[int(hdEmgData[i])-1])\n",
    "    ax.add_patch(rect)\n",
    "    \n",
    "    rect = mpathes.Rectangle(np.array([0.02 * i,-3]),0.02,1,color=color[int(myoData[i])-1])\n",
    "    ax.add_patch(rect)\n",
    "\n",
    "ax.set_ylim(-4.5, 1)\n",
    "plt.grid()\n",
    "plt.show()"
   ]
  }
 ],
 "metadata": {
  "kernelspec": {
   "display_name": "Python 3 (ipykernel)",
   "language": "python",
   "name": "python3"
  },
  "language_info": {
   "codemirror_mode": {
    "name": "ipython",
    "version": 3
   },
   "file_extension": ".py",
   "mimetype": "text/x-python",
   "name": "python",
   "nbconvert_exporter": "python",
   "pygments_lexer": "ipython3",
   "version": "3.7.3"
  }
 },
 "nbformat": 4,
 "nbformat_minor": 5
}

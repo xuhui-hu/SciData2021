{
 "cells": [
  {
   "cell_type": "markdown",
   "metadata": {
    "tags": []
   },
   "source": [
    "### Visualize the HD-sEMG animation of specific subject\n",
    "* s: choose the subject to watch the HD-sEMG activity. e.g. watch the data of S01 by input s = 1\n",
    "* fd: Here the down-sampling rate represents the frames per second(fps), by default is 20\n",
    "\n",
    "In this script, you can set the range of data (in Line 18) to select the specific gesture or session. Here, we select the first session of G01"
   ]
  },
  {
   "cell_type": "code",
   "execution_count": null,
   "metadata": {},
   "outputs": [],
   "source": [
    "import numpy as np\n",
    "import matplotlib.pyplot as plt\n",
    "import matplotlib.animation as animation\n",
    "import Ipynb_importer\n",
    "import OfflineAnalysis\n",
    "\n",
    "fd = 20\n",
    "s = 1\n",
    "x,y = OfflineAnalysis.readfiles(s, fd=fd,source='hdEMG', ges_num=12)\n",
    "hdemg = x.copy()\n",
    "\n",
    "%matplotlib\n",
    "fig, ax = plt.subplots()\n",
    "plt.xlim((-2, 15))\n",
    "plt.ylim((5, -2))\n",
    "\n",
    "ims = []\n",
    "for i in range(int(hdemg.shape[0] / 12 / 18 * 6)): \n",
    "    ims.append([ax.matshow(hdemg[i + int(hdemg.shape[0] / 12 / 18 * 12),:].reshape((5,13))),ax.text(-1,-1,'%.2f s' % (i * 50 / 1000))])\n",
    "\n",
    "ani = animation.ArtistAnimation(fig, ims, interval= 1000 / fd, blit=True, repeat_delay=0)\n",
    "\n",
    "# To save the animation\n",
    "# ani.save(\"movie.mp4\")"
   ]
  }
 ],
 "metadata": {
  "kernelspec": {
   "display_name": "Python 3 (ipykernel)",
   "language": "python",
   "name": "python3"
  },
  "language_info": {
   "codemirror_mode": {
    "name": "ipython",
    "version": 3
   },
   "file_extension": ".py",
   "mimetype": "text/x-python",
   "name": "python",
   "nbconvert_exporter": "python",
   "pygments_lexer": "ipython3",
   "version": "3.7.3"
  }
 },
 "nbformat": 4,
 "nbformat_minor": 4
}
